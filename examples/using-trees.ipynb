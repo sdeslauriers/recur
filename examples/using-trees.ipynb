{
 "cells": [
  {
   "cell_type": "markdown",
   "metadata": {},
   "source": [
    "# Using the `recur.Tree` class\n",
    "This notebook illustrates how the `recur.Tree` class can be used to create and traverse a tree structure. First, the `Tree` class is imported and a few trees are instanciated."
   ]
  },
  {
   "cell_type": "code",
   "execution_count": null,
   "metadata": {},
   "outputs": [],
   "source": [
    "from recur.tree import Tree\n",
    "\n",
    "left_leaf = Tree('left leaf')\n",
    "right_leaf = Tree('right leaf')\n",
    "branch = Tree('branch')\n",
    "root = Tree('root')\n",
    "\n",
    "branch.add(left_leaf, right_leaf)\n",
    "root.add(branch)"
   ]
  },
  {
   "cell_type": "markdown",
   "metadata": {},
   "source": [
    "Next, the tree can be traversed in pre-order using a normal for loop or in post-order using the builtin `reversed`."
   ]
  },
  {
   "cell_type": "code",
   "execution_count": null,
   "metadata": {},
   "outputs": [],
   "source": [
    "print('\\nTree in pre-order:')\n",
    "for node in root:\n",
    "    print(node.value)\n",
    "\n",
    "print('\\nTree in post-order:')\n",
    "for node in reversed(root):\n",
    "    print(node.value)"
   ]
  }
 ],
 "metadata": {
  "kernelspec": {
   "display_name": "Python 3",
   "language": "python",
   "name": "python3"
  },
  "language_info": {
   "codemirror_mode": {
    "name": "ipython",
    "version": 3
   },
   "file_extension": ".py",
   "mimetype": "text/x-python",
   "name": "python",
   "nbconvert_exporter": "python",
   "pygments_lexer": "ipython3",
   "version": "3.6.0"
  }
 },
 "nbformat": 4,
 "nbformat_minor": 2
}
