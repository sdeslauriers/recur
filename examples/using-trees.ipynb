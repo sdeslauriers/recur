{
 "cells": [
  {
   "cell_type": "markdown",
   "metadata": {},
   "source": [
    "# Using the `recur.tree.Tree` class\n",
    "This notebook illustrates how the `recur.tree.Tree` class can be used to create and traverse a tree structure. The `recur.tree.Tree` class implements only the logic need to manage the relation between the nodes of the tree. If you want the tree to contain data, you can subclass it. In this example, we first define a new class named `MyTree` which contains a name."
   ]
  },
  {
   "cell_type": "code",
   "execution_count": null,
   "metadata": {
    "collapsed": true
   },
   "outputs": [],
   "source": [
    "from recur.tree import Tree\n",
    "\n",
    "\n",
    "class MyTree(Tree):\n",
    "    \n",
    "    def __init__(self, name):\n",
    "        super().__init__()\n",
    "        self.name = name\n",
    "        \n",
    "    def __repr__(self):\n",
    "        return str(self.name)\n"
   ]
  },
  {
   "cell_type": "markdown",
   "metadata": {},
   "source": [
    "Next, we instanciate a tree with named nodes."
   ]
  },
  {
   "cell_type": "code",
   "execution_count": null,
   "metadata": {},
   "outputs": [],
   "source": [
    "left_leaf = MyTree('left leaf')\n",
    "right_leaf = MyTree('right leaf')\n",
    "branch = MyTree('branch')\n",
    "root = MyTree('root')\n",
    "\n",
    "branch.add(left_leaf)\n",
    "branch.add(right_leaf)\n",
    "root.add(branch)"
   ]
  },
  {
   "cell_type": "markdown",
   "metadata": {},
   "source": [
    "The tree can be traversed in preorder using a normal for loop or in postorder using the builtin `reversed`."
   ]
  },
  {
   "cell_type": "code",
   "execution_count": null,
   "metadata": {},
   "outputs": [],
   "source": [
    "print('\\nTree in preorder:')\n",
    "for node in root:\n",
    "    print(node.name)\n",
    "\n",
    "print('\\nTree in postorder:')\n",
    "for node in reversed(root):\n",
    "    print(node.name)"
   ]
  },
  {
   "cell_type": "markdown",
   "metadata": {},
   "source": [
    "The `leaves` convenience function is also available to iterate only over the leaves of the tree."
   ]
  },
  {
   "cell_type": "code",
   "execution_count": null,
   "metadata": {},
   "outputs": [],
   "source": [
    "from recur.tree import leaves\n",
    "\n",
    "\n",
    "print('\\nLeaves of the tree in preorder:')\n",
    "for node in leaves(root):\n",
    "    print(node.name)\n",
    "    \n",
    "print('\\nLeaves of the tree in postorder:')\n",
    "for node in leaves(reversed(root)):\n",
    "    print(node.name)"
   ]
  }
 ],
 "metadata": {
  "kernelspec": {
   "display_name": "Python 3",
   "language": "python",
   "name": "python3"
  },
  "language_info": {
   "codemirror_mode": {
    "name": "ipython",
    "version": 3
   },
   "file_extension": ".py",
   "mimetype": "text/x-python",
   "name": "python",
   "nbconvert_exporter": "python",
   "pygments_lexer": "ipython3",
   "version": "3.6.4"
  }
 },
 "nbformat": 4,
 "nbformat_minor": 2
}
