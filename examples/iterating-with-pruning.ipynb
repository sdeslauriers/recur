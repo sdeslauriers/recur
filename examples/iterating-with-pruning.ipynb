{
 "cells": [
  {
   "cell_type": "markdown",
   "metadata": {},
   "source": [
    "# Iterating over recursive structures with pruning\n",
    "This notebook illustrates how to iterate over recursive structures while pruning certain structure branches.\n",
    "\n",
    "## Recursive data structures\n",
    "We consider the case where we want to iterate over the branches of a tree structure. First, lets define the Tree class. Each node of the tree contains a value which will be used to prune certain branches. When iterating on a tree, we iterate over the children as indicated by the `__recur__` implementation."
   ]
  },
  {
   "cell_type": "code",
   "execution_count": null,
   "metadata": {
    "collapsed": true
   },
   "outputs": [],
   "source": [
    "from recur.abc import Recursive\n",
    "\n",
    "\n",
    "class Node(Recursive):\n",
    "    \n",
    "    def __init__(self, value):\n",
    "        super().__init__()\n",
    "        self._children = []\n",
    "        self.value = value\n",
    "        \n",
    "    def __recur__(self):\n",
    "        return self._children\n",
    "    \n",
    "    def __repr__(self):\n",
    "        return str(self.value)\n",
    "\n",
    "    def add(self, node):\n",
    "        self._children.append(node)"
   ]
  },
  {
   "cell_type": "markdown",
   "metadata": {},
   "source": [
    "Now that we have a tree definition, lets build a tree with many branches."
   ]
  },
  {
   "cell_type": "code",
   "execution_count": null,
   "metadata": {},
   "outputs": [],
   "source": [
    "from random import randint\n",
    "\n",
    "\n",
    "def add_leafs(node, depth, max_children):\n",
    "    \"\"\"Recursively add nodes up to depth levels\"\"\"\n",
    "    \n",
    "    if depth > 0:\n",
    "        \n",
    "        for i in range(1, randint(2, max_children + 1)):\n",
    "            new_node = node.__class__(i + node.value)\n",
    "            node.add(new_node)\n",
    "            add_leafs(new_node, depth - 1, max_children)\n",
    "         \n",
    "            \n",
    "root = Node(0)\n",
    "add_leafs(root, 4, 3)  # Create the tree with a depth of 4.\n",
    "\n",
    "# Print all the nodes in preorder.\n",
    "print([node for node in root])\n"
   ]
  },
  {
   "cell_type": "markdown",
   "metadata": {},
   "source": [
    "Now that we have a tree, suppose we wish to obtain all the nodes with a value greater than 4. To do this, we may simply iterate over all nodes and discard the ones we do not want. However, this is inefficient because the value of a node is greater to the value of its parent by construction. Therefore, once we find a node with a values greater than 4, we can safely ignore all its children. For large data structures, this may provide an enormous speed gain.\n",
    "\n",
    "This may be achieved by specifing a pruning function to the `RecursiveIterator`. A pruning function receives a node (or more generally, a `Recursive` instance) and returns a boolean value. For a given node, if the pruning function returns `False`, the node and all of its children decendants are ignored."
   ]
  },
  {
   "cell_type": "code",
   "execution_count": null,
   "metadata": {},
   "outputs": [],
   "source": [
    "from time import time\n",
    "\n",
    "from recur.abc import Order, RecursiveIterator\n",
    "\n",
    "\n",
    "def prune(node):\n",
    "    return node.value > 4\n",
    "\n",
    "\n",
    "# Eliminate nodes by filtering.\n",
    "print('Filtering: {}'.format([node for node in root if node.value <= 4]))\n",
    "\n",
    "# Eliminate nodes by pruning gives the save result.\n",
    "iterator = RecursiveIterator(root, Order.PRE, prune=prune)\n",
    "print('Pruning: {}'.format([node for node in iterator]))\n",
    "\n",
    "# For large structure, pruning is more efficient.\n",
    "large_root = Node(0)\n",
    "add_leafs(large_root, 10, 3)\n",
    "\n",
    "start = time()\n",
    "filtered_nodes = [node for node in large_root if node.value <= 4]\n",
    "print('Elimination by filtering in {:0.2f} milliseconds.'\n",
    "      .format(1000 * (time() - start)))\n",
    "\n",
    "start = time()\n",
    "iterator = RecursiveIterator(large_root, Order.PRE, prune=prune)\n",
    "pruned_nodes = [node for node in iterator]\n",
    "print('Elimination by pruning in {:0.2f} milliseconds.'\n",
    "      .format(1000 * (time() - start)))"
   ]
  },
  {
   "cell_type": "markdown",
   "metadata": {},
   "source": [
    "Because the Iterator syntax is a bit heavy, pruning is also supported by the `preoder` and `postorder` convenience functions."
   ]
  },
  {
   "cell_type": "code",
   "execution_count": null,
   "metadata": {},
   "outputs": [],
   "source": [
    "from recur.abc import postorder, preorder\n",
    "\n",
    "pruned_nodes = [node for node in preorder(root, prune=prune)]\n",
    "print('Pruning in preorder: {}'.format(pruned_nodes))\n",
    "\n",
    "pruned_nodes = [node for node in postorder(root, prune=prune)]\n",
    "print('Pruning in postorder: {}'.format(pruned_nodes))"
   ]
  },
  {
   "cell_type": "markdown",
   "metadata": {},
   "source": [
    "## MultiRecursive data structures\n",
    "Pruning data structures as illustrate above also works for instances of MultiRecursive data structures. Here is an example with a tree where children can iterate over their ancestors. First, lets define the `MultiNode` class which represents a single node in the tree."
   ]
  },
  {
   "cell_type": "code",
   "execution_count": null,
   "metadata": {
    "collapsed": true
   },
   "outputs": [],
   "source": [
    "from recur.abc import MultiRecursive\n",
    "\n",
    "\n",
    "class MultiNode(MultiRecursive):\n",
    "    \n",
    "    def __init__(self, value):\n",
    "        super().__init__()\n",
    "        self._children = []\n",
    "        self._parents = []\n",
    "        self.value = value\n",
    "        \n",
    "    def __multirecur__(self, index):\n",
    "        if index == 0:\n",
    "            return self._children\n",
    "        else:\n",
    "            return self._parents\n",
    "    \n",
    "    def __repr__(self):\n",
    "        return str(self.value)\n",
    "\n",
    "    def add(self, node):\n",
    "        self._children.append(node)\n",
    "        node._parents.append(self)\n"
   ]
  },
  {
   "cell_type": "markdown",
   "metadata": {},
   "source": [
    "We can then create a tree and traverse it in preorder and postorder from the root to the leafs or from the leafs to the root. While we could use the `MultiRecursiveIterator` for this, the convenience functions `postorder`, `preorder`, `ancestors` and `decendants` are mush nicer."
   ]
  },
  {
   "cell_type": "code",
   "execution_count": null,
   "metadata": {},
   "outputs": [],
   "source": [
    "from recur.abc import ancestors, descendants\n",
    "\n",
    "\n",
    "# Create a tree. We can use the same function because both Node and \n",
    "# MultiNode implement the add method.\n",
    "multi_root = MultiNode(0)\n",
    "add_leafs(multi_root, 4, 3)\n",
    "\n",
    "# Print all children and parents.\n",
    "nodes = [node for node in multi_root]\n",
    "print('Children of the root: {}'.format(nodes))\n",
    "parents = [node for node in ancestors(nodes[-1])]\n",
    "print('Ancestors of a leaf: {}'.format(parents))\n",
    "\n",
    "# Print pruned children.\n",
    "pruned_children = [n for n in preorder(descendants(multi_root), prune=prune)]\n",
    "print('Pruned children of the root: {}'.format(pruned_children))\n",
    "\n",
    "# Printing the parents of a pruned node yields nothing.\n",
    "pruned_parents = [n for n in preorder(ancestors(nodes[-1]), prune=prune)]\n",
    "print('Ancestors of a pruned leaf: {}'.format(pruned_parents))\n",
    "\n",
    "# Printing the parents of a leaf.\n",
    "iterator = postorder(ancestors(nodes[-1]), prune=lambda n: n.value < 3)\n",
    "pruned_parents = [n for n in iterator]\n",
    "print('Pruned ancestors of a leaf in postorder: {}'.format(pruned_parents))"
   ]
  }
 ],
 "metadata": {
  "kernelspec": {
   "display_name": "Python 3",
   "language": "python",
   "name": "python3"
  },
  "language_info": {
   "codemirror_mode": {
    "name": "ipython",
    "version": 3
   },
   "file_extension": ".py",
   "mimetype": "text/x-python",
   "name": "python",
   "nbconvert_exporter": "python",
   "pygments_lexer": "ipython3",
   "version": "3.6.4"
  }
 },
 "nbformat": 4,
 "nbformat_minor": 2
}
