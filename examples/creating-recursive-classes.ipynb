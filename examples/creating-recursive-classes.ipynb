{
 "cells": [
  {
   "cell_type": "markdown",
   "metadata": {},
   "source": [
    "# Creating your own recursive classes\n",
    "To create your own recursive classes, the `recur.abc` module provides an abstract base class called `Recursive`. The first step is to have your new class inherit from `Recursive`."
   ]
  },
  {
   "cell_type": "code",
   "execution_count": null,
   "metadata": {},
   "outputs": [],
   "source": [
    "from recur import Recursive\n",
    "\n",
    "class IncompleteClass(Recursive):\n",
    "    pass\n",
    "\n",
    "incomplete = IncompleteClass() # This raises an error."
   ]
  },
  {
   "cell_type": "markdown",
   "metadata": {},
   "source": [
    "The error above is raised because all concrete `Recursive` classes must implement the `__recur__` method. This method should return an iterable of the same class as the caller. For example, if you implement a `Tree` class, the `__recur__` method could return a list of trees, i.e. a forest. Once `__recur__` is implemented in the concrete class, it can be recursively traversed in pre-order using a normal for loop."
   ]
  },
  {
   "cell_type": "code",
   "execution_count": null,
   "metadata": {
    "collapsed": true
   },
   "outputs": [],
   "source": [
    "from recur import Recursive\n",
    "\n",
    "\n",
    "class Tree(Recursive):\n",
    "    \n",
    "    def __init__(self, value):\n",
    "        self.value = value\n",
    "        self.children = []\n",
    "        \n",
    "    def __recur__(self):\n",
    "        return self.children\n",
    "    \n",
    "    def add(self, child):\n",
    "        self.children.append(child)\n",
    "\n",
    "        \n",
    "right = Tree('c')\n",
    "left = Tree('b')\n",
    "forest = Tree('a')\n",
    "forest.add(left)\n",
    "forest.add(right)\n",
    "\n",
    "for tree in forest:\n",
    "    print(tree.value)"
   ]
  },
  {
   "cell_type": "markdown",
   "metadata": {},
   "source": [
    "To traverse the structure in post-order, simply use the `reversed` function."
   ]
  },
  {
   "cell_type": "code",
   "execution_count": null,
   "metadata": {
    "collapsed": true
   },
   "outputs": [],
   "source": [
    "for tree in reversed(forest):\n",
    "    print(tree.value)"
   ]
  },
  {
   "cell_type": "markdown",
   "metadata": {},
   "source": [
    "An implemetation of the `Tree` class above is provided in the `recur.tree` module."
   ]
  },
  {
   "cell_type": "code",
   "execution_count": null,
   "metadata": {
    "collapsed": true
   },
   "outputs": [],
   "source": []
  }
 ],
 "metadata": {
  "kernelspec": {
   "display_name": "Python 3",
   "language": "python",
   "name": "python3"
  },
  "language_info": {
   "codemirror_mode": {
    "name": "ipython",
    "version": 3
   },
   "file_extension": ".py",
   "mimetype": "text/x-python",
   "name": "python",
   "nbconvert_exporter": "python",
   "pygments_lexer": "ipython3",
   "version": "3.6.0"
  }
 },
 "nbformat": 4,
 "nbformat_minor": 2
}
