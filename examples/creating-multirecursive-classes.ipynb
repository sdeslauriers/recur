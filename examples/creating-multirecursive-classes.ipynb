{
 "cells": [
  {
   "cell_type": "markdown",
   "metadata": {},
   "source": [
    "# Creating your own multirecursive classes\n",
    "To create your own recursive classes, the `recur.abc` module provides an abstract base class called `MultiRecursive`. The first step is to have your new class inherit from `MultiRecursive`."
   ]
  },
  {
   "cell_type": "code",
   "execution_count": null,
   "metadata": {},
   "outputs": [],
   "source": [
    "from recur.abc import MultiRecursive, MultiRecursiveIterator, preorder, postorder\n",
    "\n",
    "class IncompleteClass(MultiRecursive):\n",
    "    pass\n",
    "\n",
    "incomplete = IncompleteClass() # This raises a TypeError"
   ]
  },
  {
   "cell_type": "markdown",
   "metadata": {},
   "source": [
    "The error above is raised because all concrete `MultiRecursive` classes must implement the `__multirecur__` method. This method receives and index i and should return the ith iterable of the same class as the caller.\n",
    "\n",
    "For example, suppose we want to implement a directed graph that we can traverse either by descending the edges (parent to child) or by ascending the edges (child to parent). In this case, index 0 could return the list of children of a node and index 0 could return the list of parents of a node."
   ]
  },
  {
   "cell_type": "code",
   "execution_count": null,
   "metadata": {
    "collapsed": true
   },
   "outputs": [],
   "source": [
    "class DirectedGraphNode(MultiRecursive):\n",
    "    \n",
    "    def __init__(self, name):\n",
    "        self.name = name\n",
    "        self.children = []\n",
    "        self.parents = []\n",
    "        \n",
    "    def __repr__(self):\n",
    "        return self.name\n",
    "    \n",
    "    def __multirecur__(self, index):\n",
    "        if index == 0:\n",
    "            return self.children\n",
    "        else:\n",
    "            return self.parents\n",
    "        \n",
    "def link(parent, child):\n",
    "    parent.children.append(child)\n",
    "    child.parents.append(parent)\n",
    "    \n",
    "# Generate the nodes of the graph.\n",
    "graph = DirectedGraphNode('graph')\n",
    "child = DirectedGraphNode('child 1')\n",
    "other_child = DirectedGraphNode('child 2')\n",
    "parent = DirectedGraphNode('parent 1')\n",
    "other_parent = DirectedGraphNode('parent 2')\n",
    "\n",
    "# Link them together. The central node has 2 parents and 2 children.\n",
    "link(graph, child)\n",
    "link(graph, other_child)\n",
    "link(parent, graph)\n",
    "link(other_parent, graph)"
   ]
  },
  {
   "cell_type": "markdown",
   "metadata": {},
   "source": [
    "Now that we have a `MultiRecursive` instance, we can iterate over the nodes in many different ways."
   ]
  },
  {
   "cell_type": "code",
   "execution_count": null,
   "metadata": {},
   "outputs": [],
   "source": [
    "# By default, we iterate over the children (index 0) in preorder.\n",
    "print('Children in preorder:')\n",
    "for node in graph:\n",
    "    print(node)\n",
    "    \n",
    "# We can also iterate over the children in postorder using reversed.\n",
    "print('\\nChildren in postorder:')\n",
    "for node in reversed(graph):\n",
    "    print(node)\n",
    "    \n",
    "# To iterate over the parents in preorder, we use an iterator.\n",
    "print('\\nParents in preorder:')\n",
    "for node in MultiRecursiveIterator(graph, 1, 'pre'):\n",
    "    print(node)\n",
    "    \n",
    "# Finally we iterate over the parents in postorder.\n",
    "print('\\nParents in postorder:')\n",
    "for node in MultiRecursiveIterator(graph, 1, 'post'):\n",
    "    print(node)"
   ]
  }
 ],
 "metadata": {
  "kernelspec": {
   "display_name": "Python 3",
   "language": "python",
   "name": "python3"
  },
  "language_info": {
   "codemirror_mode": {
    "name": "ipython",
    "version": 3
   },
   "file_extension": ".py",
   "mimetype": "text/x-python",
   "name": "python",
   "nbconvert_exporter": "python",
   "pygments_lexer": "ipython3",
   "version": "3.6.0"
  }
 },
 "nbformat": 4,
 "nbformat_minor": 2
}
